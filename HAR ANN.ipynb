{
 "cells": [
  {
   "cell_type": "code",
   "execution_count": 2,
   "metadata": {},
   "outputs": [],
   "source": [
    "import numpy as np\n",
    "import matplotlib.pyplot as plt\n",
    "import pandas as pd\n",
    "\n",
    "import tensorflow as tf\n",
    "from tensorflow.keras.layers import Dense, Input, Concatenate\n",
    "from tensorflow.keras.models import Model\n",
    "from tensorflow.keras.losses import SparseCategoricalCrossentropy\n",
    "from tensorflow.keras.callbacks import ModelCheckpoint\n",
    "\n",
    "from sklearn.metrics import r2_score\n",
    "from sklearn.preprocessing import StandardScaler\n",
    "\n",
    "np.random.seed(123)\n",
    "tf.random.set_seed(123)\n"
   ]
  },
  {
   "cell_type": "code",
   "execution_count": null,
   "metadata": {},
   "outputs": [],
   "source": []
  },
  {
   "cell_type": "code",
   "execution_count": 3,
   "metadata": {},
   "outputs": [],
   "source": [
    "d = open(r\"C:\\Users\\axith\\Documents\\data science\\time series\\06 Neural Network\\UCI HAR Dataset\\train\\Inertial Signals\\body_acc_x_train.txt\")\n",
    "df = pd.read_csv(\n",
    "    d,\n",
    "    header=None,\n",
    "    delim_whitespace=True,\n",
    ")\n"
   ]
  },
  {
   "cell_type": "code",
   "execution_count": 4,
   "metadata": {},
   "outputs": [
    {
     "data": {
      "text/html": [
       "<div>\n",
       "<style scoped>\n",
       "    .dataframe tbody tr th:only-of-type {\n",
       "        vertical-align: middle;\n",
       "    }\n",
       "\n",
       "    .dataframe tbody tr th {\n",
       "        vertical-align: top;\n",
       "    }\n",
       "\n",
       "    .dataframe thead th {\n",
       "        text-align: right;\n",
       "    }\n",
       "</style>\n",
       "<table border=\"1\" class=\"dataframe\">\n",
       "  <thead>\n",
       "    <tr style=\"text-align: right;\">\n",
       "      <th></th>\n",
       "      <th>0</th>\n",
       "      <th>1</th>\n",
       "      <th>2</th>\n",
       "      <th>3</th>\n",
       "      <th>4</th>\n",
       "      <th>5</th>\n",
       "      <th>6</th>\n",
       "      <th>7</th>\n",
       "      <th>8</th>\n",
       "      <th>9</th>\n",
       "      <th>...</th>\n",
       "      <th>118</th>\n",
       "      <th>119</th>\n",
       "      <th>120</th>\n",
       "      <th>121</th>\n",
       "      <th>122</th>\n",
       "      <th>123</th>\n",
       "      <th>124</th>\n",
       "      <th>125</th>\n",
       "      <th>126</th>\n",
       "      <th>127</th>\n",
       "    </tr>\n",
       "  </thead>\n",
       "  <tbody>\n",
       "    <tr>\n",
       "      <th>0</th>\n",
       "      <td>0.000181</td>\n",
       "      <td>0.010139</td>\n",
       "      <td>0.009276</td>\n",
       "      <td>0.005066</td>\n",
       "      <td>0.010810</td>\n",
       "      <td>0.004045</td>\n",
       "      <td>0.004757</td>\n",
       "      <td>0.006214</td>\n",
       "      <td>0.003307</td>\n",
       "      <td>0.007572</td>\n",
       "      <td>...</td>\n",
       "      <td>0.001412</td>\n",
       "      <td>-0.001509</td>\n",
       "      <td>0.000060</td>\n",
       "      <td>0.000435</td>\n",
       "      <td>-0.000819</td>\n",
       "      <td>0.000228</td>\n",
       "      <td>-0.000300</td>\n",
       "      <td>-0.001147</td>\n",
       "      <td>-0.000222</td>\n",
       "      <td>0.001576</td>\n",
       "    </tr>\n",
       "    <tr>\n",
       "      <th>1</th>\n",
       "      <td>0.001094</td>\n",
       "      <td>0.004550</td>\n",
       "      <td>0.002879</td>\n",
       "      <td>0.002247</td>\n",
       "      <td>0.003305</td>\n",
       "      <td>0.002416</td>\n",
       "      <td>0.001619</td>\n",
       "      <td>0.000981</td>\n",
       "      <td>0.000009</td>\n",
       "      <td>-0.000363</td>\n",
       "      <td>...</td>\n",
       "      <td>-0.000104</td>\n",
       "      <td>-0.000141</td>\n",
       "      <td>0.001333</td>\n",
       "      <td>0.001541</td>\n",
       "      <td>0.001077</td>\n",
       "      <td>-0.000736</td>\n",
       "      <td>-0.003767</td>\n",
       "      <td>-0.004646</td>\n",
       "      <td>-0.002941</td>\n",
       "      <td>-0.001599</td>\n",
       "    </tr>\n",
       "    <tr>\n",
       "      <th>2</th>\n",
       "      <td>0.003531</td>\n",
       "      <td>0.002285</td>\n",
       "      <td>-0.000420</td>\n",
       "      <td>-0.003738</td>\n",
       "      <td>-0.006706</td>\n",
       "      <td>-0.003148</td>\n",
       "      <td>0.000733</td>\n",
       "      <td>0.000668</td>\n",
       "      <td>0.002162</td>\n",
       "      <td>-0.000946</td>\n",
       "      <td>...</td>\n",
       "      <td>0.000661</td>\n",
       "      <td>0.001853</td>\n",
       "      <td>-0.000268</td>\n",
       "      <td>-0.000394</td>\n",
       "      <td>-0.000279</td>\n",
       "      <td>-0.000316</td>\n",
       "      <td>0.000144</td>\n",
       "      <td>0.001246</td>\n",
       "      <td>0.003117</td>\n",
       "      <td>0.002178</td>\n",
       "    </tr>\n",
       "    <tr>\n",
       "      <th>3</th>\n",
       "      <td>-0.001772</td>\n",
       "      <td>-0.001311</td>\n",
       "      <td>0.000388</td>\n",
       "      <td>0.000408</td>\n",
       "      <td>-0.000355</td>\n",
       "      <td>0.000998</td>\n",
       "      <td>0.001109</td>\n",
       "      <td>-0.003149</td>\n",
       "      <td>-0.008882</td>\n",
       "      <td>-0.010483</td>\n",
       "      <td>...</td>\n",
       "      <td>0.000458</td>\n",
       "      <td>0.002103</td>\n",
       "      <td>0.001358</td>\n",
       "      <td>0.000820</td>\n",
       "      <td>-0.000212</td>\n",
       "      <td>-0.001915</td>\n",
       "      <td>-0.001631</td>\n",
       "      <td>-0.000867</td>\n",
       "      <td>-0.001172</td>\n",
       "      <td>-0.000028</td>\n",
       "    </tr>\n",
       "    <tr>\n",
       "      <th>4</th>\n",
       "      <td>0.000087</td>\n",
       "      <td>-0.000272</td>\n",
       "      <td>0.001022</td>\n",
       "      <td>0.003126</td>\n",
       "      <td>0.002284</td>\n",
       "      <td>0.000885</td>\n",
       "      <td>0.001933</td>\n",
       "      <td>0.002270</td>\n",
       "      <td>0.002247</td>\n",
       "      <td>0.002175</td>\n",
       "      <td>...</td>\n",
       "      <td>0.002529</td>\n",
       "      <td>0.003518</td>\n",
       "      <td>-0.000248</td>\n",
       "      <td>-0.002761</td>\n",
       "      <td>0.000252</td>\n",
       "      <td>0.003752</td>\n",
       "      <td>0.001626</td>\n",
       "      <td>-0.000698</td>\n",
       "      <td>-0.001223</td>\n",
       "      <td>-0.003328</td>\n",
       "    </tr>\n",
       "  </tbody>\n",
       "</table>\n",
       "<p>5 rows × 128 columns</p>\n",
       "</div>"
      ],
      "text/plain": [
       "        0         1         2         3         4         5         6    \\\n",
       "0  0.000181  0.010139  0.009276  0.005066  0.010810  0.004045  0.004757   \n",
       "1  0.001094  0.004550  0.002879  0.002247  0.003305  0.002416  0.001619   \n",
       "2  0.003531  0.002285 -0.000420 -0.003738 -0.006706 -0.003148  0.000733   \n",
       "3 -0.001772 -0.001311  0.000388  0.000408 -0.000355  0.000998  0.001109   \n",
       "4  0.000087 -0.000272  0.001022  0.003126  0.002284  0.000885  0.001933   \n",
       "\n",
       "        7         8         9    ...       118       119       120       121  \\\n",
       "0  0.006214  0.003307  0.007572  ...  0.001412 -0.001509  0.000060  0.000435   \n",
       "1  0.000981  0.000009 -0.000363  ... -0.000104 -0.000141  0.001333  0.001541   \n",
       "2  0.000668  0.002162 -0.000946  ...  0.000661  0.001853 -0.000268 -0.000394   \n",
       "3 -0.003149 -0.008882 -0.010483  ...  0.000458  0.002103  0.001358  0.000820   \n",
       "4  0.002270  0.002247  0.002175  ...  0.002529  0.003518 -0.000248 -0.002761   \n",
       "\n",
       "        122       123       124       125       126       127  \n",
       "0 -0.000819  0.000228 -0.000300 -0.001147 -0.000222  0.001576  \n",
       "1  0.001077 -0.000736 -0.003767 -0.004646 -0.002941 -0.001599  \n",
       "2 -0.000279 -0.000316  0.000144  0.001246  0.003117  0.002178  \n",
       "3 -0.000212 -0.001915 -0.001631 -0.000867 -0.001172 -0.000028  \n",
       "4  0.000252  0.003752  0.001626 -0.000698 -0.001223 -0.003328  \n",
       "\n",
       "[5 rows x 128 columns]"
      ]
     },
     "execution_count": 4,
     "metadata": {},
     "output_type": "execute_result"
    }
   ],
   "source": [
    "df.head()\n"
   ]
  },
  {
   "cell_type": "code",
   "execution_count": 5,
   "metadata": {},
   "outputs": [
    {
     "name": "stdout",
     "output_type": "stream",
     "text": [
      "<class 'pandas.core.frame.DataFrame'>\n",
      "RangeIndex: 7352 entries, 0 to 7351\n",
      "Columns: 128 entries, 0 to 127\n",
      "dtypes: float64(128)\n",
      "memory usage: 7.2 MB\n"
     ]
    }
   ],
   "source": [
    "df.info()\n"
   ]
  },
  {
   "cell_type": "code",
   "execution_count": 6,
   "metadata": {},
   "outputs": [
    {
     "data": {
      "text/plain": [
       "<AxesSubplot:>"
      ]
     },
     "execution_count": 6,
     "metadata": {},
     "output_type": "execute_result"
    },
    {
     "data": {
      "image/png": "[encoded data removed]",
      "text/plain": [
       "<Figure size 432x288 with 1 Axes>"
      ]
     },
     "metadata": {
      "needs_background": "light"
     },
     "output_type": "display_data"
    }
   ],
   "source": [
    "df.iloc[0].plot()\n"
   ]
  },
  {
   "cell_type": "code",
   "execution_count": 7,
   "metadata": {},
   "outputs": [],
   "source": [
    "T = 128\n",
    "Ntrain = 7352\n",
    "Ntest = 2947\n",
    "D = 9\n",
    "K = 6\n"
   ]
  },
  {
   "cell_type": "code",
   "execution_count": 8,
   "metadata": {},
   "outputs": [],
   "source": [
    "def load_data():\n",
    "\n",
    "    Xtrain = np.zeros((Ntrain, T, D))\n",
    "    Xtest = np.zeros((Ntest, T, D))\n",
    "\n",
    "    ts_filenames = [\n",
    "        'body_acc_x_train.txt',\n",
    "        \"body_acc_y_train.txt\",\n",
    "        \"body_acc_z_train.txt\",\n",
    "        \"body_gyro_x_train.txt\",\n",
    "        \"body_gyro_y_train.txt\",\n",
    "        \"body_gyro_z_train.txt\",\n",
    "        \"total_acc_x_train.txt\",\n",
    "        \"total_acc_y_train.txt\",\n",
    "        \"total_acc_z_train.txt\"\n",
    "    ]\n",
    "\n",
    "    # ts_file_prefix =open(r\"C:\\Users\\axith\\Documents\\data science\\time series\\06 Neural Network\\UCI HAR Dataset\\train\") \n",
    "    # f=open(r\"C:\\Users\\axith\\Documents\\data science\\time series\\06 Neural Network\\UCI HAR Dataset\\train\\Inertial Signals\")\n",
    "    file=r\"C:\\Users\\axith\\Documents\\data science\\time series\\06 Neural Network\\UCI HAR Dataset\\train\"\n",
    "\n",
    "    for d, fn in enumerate(ts_filenames):\n",
    "        df = pd.read_csv(f\"{file}\\Inertial Signals\\{fn}\",\n",
    "                         header=None,\n",
    "                         delim_whitespace=True\n",
    "                         )\n",
    "\n",
    "        x = df.to_numpy()\n",
    "        Xtrain[:, :, d] = x\n",
    "        Ytrain = pd.read_csv(f\"{file}\\y_train.txt\"\n",
    "            , header=None).to_numpy()-1\n",
    "        Ytrain = Ytrain.flatten()\n",
    "\n",
    "    ts_filenames = [\n",
    "            'body_acc_x_test.txt',\n",
    "            \"body_acc_y_test.txt\",\n",
    "            \"body_acc_z_test.txt\",\n",
    "            \"body_gyro_x_test.txt\",\n",
    "            \"body_gyro_y_test.txt\",\n",
    "            \"body_gyro_z_test.txt\",\n",
    "            \"total_acc_x_test.txt\",\n",
    "            \"total_acc_y_test.txt\",\n",
    "            \"total_acc_z_test.txt\"\n",
    "        ]\n",
    "    file=r\"C:\\Users\\axith\\Documents\\data science\\time series\\06 Neural Network\\UCI HAR Dataset\\test\"\n",
    "\n",
    "    for d,fn in enumerate(ts_filenames):\n",
    "        # d=open(rf'{file}\\Inertial Signals\\{fn}')\n",
    "        df = pd.read_csv(f'{file}\\Inertial Signals\\{fn}',\n",
    "                         header=None,\n",
    "                         delim_whitespace=True\n",
    "                         )\n",
    "        x=df.to_numpy()\n",
    "        Xtest[:,:,d]=x\n",
    "    # d=open(rf'{file}\\y_test.txt')\n",
    "    Ytest = pd.read_csv(f'{file}\\y_test.txt', header=None).to_numpy()-1\n",
    "    Ytest = Ytest.flatten()\n",
    "\n",
    "    return Xtrain,Xtest,Ytrain,Ytest\n",
    "Xtrain,Xtest,Ytrain,Ytest=load_data()"
   ]
  },
  {
   "cell_type": "code",
   "execution_count": 9,
   "metadata": {},
   "outputs": [],
   "source": [
    "Xtrain,Xtest,Ytrain,Ytest=load_data()"
   ]
  },
  {
   "cell_type": "code",
   "execution_count": 10,
   "metadata": {},
   "outputs": [
    {
     "data": {
      "text/plain": [
       "array([[[ 1.808515e-04,  1.076681e-02,  5.556068e-02, ...,\n",
       "          1.012817e+00, -1.232167e-01,  1.029341e-01],\n",
       "        [ 1.013856e-02,  6.579480e-03,  5.512483e-02, ...,\n",
       "          1.022833e+00, -1.268756e-01,  1.056872e-01],\n",
       "        [ 9.275574e-03,  8.928878e-03,  4.840473e-02, ...,\n",
       "          1.022028e+00, -1.240037e-01,  1.021025e-01],\n",
       "        ...,\n",
       "        [-1.147484e-03,  1.714439e-04,  2.647864e-03, ...,\n",
       "          1.018445e+00, -1.240696e-01,  1.003852e-01],\n",
       "        [-2.222655e-04,  1.574181e-03,  2.381057e-03, ...,\n",
       "          1.019372e+00, -1.227451e-01,  9.987355e-02],\n",
       "        [ 1.575500e-03,  3.070189e-03, -2.269757e-03, ...,\n",
       "          1.021171e+00, -1.213260e-01,  9.498741e-02]],\n",
       "\n",
       "       [[ 1.093752e-03, -4.687588e-03, -2.685954e-02, ...,\n",
       "          1.018851e+00, -1.239760e-01,  9.792958e-02],\n",
       "        [ 4.550077e-03, -7.487894e-03, -2.509841e-02, ...,\n",
       "          1.022380e+00, -1.268078e-01,  9.935086e-02],\n",
       "        [ 2.879173e-03, -8.429991e-03, -2.597534e-02, ...,\n",
       "          1.020781e+00, -1.277862e-01,  9.811381e-02],\n",
       "        ...,\n",
       "        [-4.646144e-03, -5.479850e-03, -2.996671e-04, ...,\n",
       "          1.014788e+00, -1.290268e-01,  9.353520e-02],\n",
       "        [-2.941333e-03, -2.987481e-03, -4.886324e-03, ...,\n",
       "          1.016499e+00, -1.264244e-01,  8.903516e-02],\n",
       "        [-1.598751e-03, -7.192009e-03, -3.397195e-03, ...,\n",
       "          1.017849e+00, -1.305193e-01,  9.061235e-02]],\n",
       "\n",
       "       [[ 3.531266e-03,  4.455942e-03, -5.914581e-03, ...,\n",
       "          1.023127e+00, -1.200157e-01,  9.111667e-02],\n",
       "        [ 2.285063e-03,  3.045876e-03, -4.138911e-03, ...,\n",
       "          1.021882e+00, -1.214994e-01,  9.267560e-02],\n",
       "        [-4.197538e-04,  1.776179e-03, -5.428851e-04, ...,\n",
       "          1.019178e+00, -1.228407e-01,  9.606378e-02],\n",
       "        ...,\n",
       "        [ 1.245999e-03, -6.397631e-03, -1.144203e-02, ...,\n",
       "          1.021041e+00, -1.308757e-01,  8.301135e-02],\n",
       "        [ 3.116783e-03, -6.601456e-03, -1.203020e-02, ...,\n",
       "          1.022935e+00, -1.312099e-01,  8.233391e-02],\n",
       "        [ 2.177658e-03, -5.442240e-03, -1.278381e-02, ...,\n",
       "          1.022019e+00, -1.301826e-01,  8.148748e-02]],\n",
       "\n",
       "       ...,\n",
       "\n",
       "       [[-2.267175e-01,  5.684462e-02,  2.289274e-01, ...,\n",
       "          7.548917e-01, -1.711829e-01,  1.745865e-01],\n",
       "        [-1.778169e-01,  2.716956e-02,  2.890968e-01, ...,\n",
       "          8.043137e-01, -1.999375e-01,  2.324243e-01],\n",
       "        [-1.508691e-01, -5.757124e-03,  3.165541e-01, ...,\n",
       "          8.317140e-01, -2.319457e-01,  2.576066e-01],\n",
       "        ...,\n",
       "        [-2.949353e-01, -1.123039e-02,  9.884312e-02, ...,\n",
       "          6.956257e-01, -2.217656e-01,  1.112952e-01],\n",
       "        [-2.434030e-01, -7.121083e-02,  1.158437e-01, ...,\n",
       "          7.479103e-01, -2.811496e-01,  1.263023e-01],\n",
       "        [-2.152148e-01, -1.182353e-01,  1.802014e-01, ...,\n",
       "          7.767680e-01, -3.275988e-01,  1.886212e-01]],\n",
       "\n",
       "       [[-6.480597e-02, -5.740777e-03,  3.102535e-01, ...,\n",
       "          9.279268e-01, -2.238010e-01,  2.628140e-01],\n",
       "        [-7.993300e-02, -3.260742e-03,  3.429152e-01, ...,\n",
       "          9.129872e-01, -2.210407e-01,  2.954154e-01],\n",
       "        [-6.834966e-02,  3.351273e-02,  3.850993e-01, ...,\n",
       "          9.246597e-01, -1.839923e-01,  3.376098e-01],\n",
       "        ...,\n",
       "        [-3.150159e-01,  5.451652e-02,  1.658256e-01, ...,\n",
       "          6.753473e-01, -1.620087e-01,  1.289247e-01],\n",
       "        [-3.307374e-01,  1.436651e-02,  2.109568e-01, ...,\n",
       "          6.603377e-01, -2.020367e-01,  1.722512e-01],\n",
       "        [-2.723475e-01, -1.284256e-02,  2.505605e-01, ...,\n",
       "          7.193530e-01, -2.291273e-01,  2.100712e-01]],\n",
       "\n",
       "       [[-1.944707e-01, -9.723743e-02,  2.030342e-01, ...,\n",
       "          7.980909e-01, -3.060512e-01,  2.093865e-01],\n",
       "        [-1.738025e-01, -5.831043e-02,  2.267976e-01, ...,\n",
       "          8.192417e-01, -2.666046e-01,  2.310711e-01],\n",
       "        [-1.275446e-01,  2.447115e-03,  3.319892e-01, ...,\n",
       "          8.658821e-01, -2.053607e-01,  3.341906e-01],\n",
       "        ...,\n",
       "        [-7.190685e-02, -1.943222e-01, -1.275547e-01, ...,\n",
       "          8.980947e-01, -3.977751e-01, -1.561050e-01],\n",
       "        [-1.422088e-01, -1.470701e-01, -9.236675e-02, ...,\n",
       "          8.283723e-01, -3.492473e-01, -1.227979e-01],\n",
       "        [-1.709989e-01, -1.313991e-01, -5.112688e-02, ...,\n",
       "          8.002428e-01, -3.323721e-01, -8.357159e-02]]])"
      ]
     },
     "execution_count": 10,
     "metadata": {},
     "output_type": "execute_result"
    }
   ],
   "source": [
    "Xtrain\n"
   ]
  },
  {
   "cell_type": "code",
   "execution_count": 11,
   "metadata": {},
   "outputs": [
    {
     "data": {
      "text/plain": [
       "array([4, 4, 4, ..., 1, 1, 1], dtype=int64)"
      ]
     },
     "execution_count": 11,
     "metadata": {},
     "output_type": "execute_result"
    }
   ],
   "source": [
    "Ytest"
   ]
  },
  {
   "cell_type": "code",
   "execution_count": 12,
   "metadata": {},
   "outputs": [
    {
     "data": {
      "text/plain": [
       "[<matplotlib.lines.Line2D at 0x15daa8ee760>,\n",
       " <matplotlib.lines.Line2D at 0x15daa8ee790>,\n",
       " <matplotlib.lines.Line2D at 0x15daa8ee8b0>,\n",
       " <matplotlib.lines.Line2D at 0x15daa8ee9d0>,\n",
       " <matplotlib.lines.Line2D at 0x15daa8eeaf0>,\n",
       " <matplotlib.lines.Line2D at 0x15daa8eec10>,\n",
       " <matplotlib.lines.Line2D at 0x15daa8eed30>,\n",
       " <matplotlib.lines.Line2D at 0x15daa8eee50>,\n",
       " <matplotlib.lines.Line2D at 0x15daa8eef70>]"
      ]
     },
     "execution_count": 12,
     "metadata": {},
     "output_type": "execute_result"
    },
    {
     "data": {
      "image/png": "[encoded data removed]",
      "text/plain": [
       "<Figure size 432x288 with 1 Axes>"
      ]
     },
     "metadata": {
      "needs_background": "light"
     },
     "output_type": "display_data"
    }
   ],
   "source": [
    "plt.plot(Xtrain[7000,:,:])"
   ]
  },
  {
   "cell_type": "code",
   "execution_count": 13,
   "metadata": {},
   "outputs": [],
   "source": [
    "input=[]\n",
    "features=[]\n",
    "\n",
    "for d in range(D):\n",
    "    i=Input(shape=(T,))\n",
    "    x=Dense(32,activation='relu')(i)\n",
    "    x=Dense(16,activation='relu')(x)\n",
    "    input.append(i)\n",
    "    features.append(x)\n",
    "x=Concatenate()(features)\n",
    "x=Dense(K)(x)\n",
    "model=Model(input,x)"
   ]
  },
  {
   "cell_type": "code",
   "execution_count": 14,
   "metadata": {},
   "outputs": [],
   "source": [
    "# pip install pydot"
   ]
  },
  {
   "cell_type": "code",
   "execution_count": 15,
   "metadata": {},
   "outputs": [
    {
     "name": "stdout",
     "output_type": "stream",
     "text": [
      "('You must install pydot (`pip install pydot`) and install graphviz (see instructions at https://graphviz.gitlab.io/download/) ', 'for plot_model/model_to_dot to work.')\n"
     ]
    }
   ],
   "source": [
    "tf.keras.utils.plot_model(model)"
   ]
  },
  {
   "cell_type": "code",
   "execution_count": 16,
   "metadata": {},
   "outputs": [],
   "source": [
    "check_point=ModelCheckpoint(\n",
    "    \"best_model.h5\",monitor='val_accuracy',save_best_only=True\n",
    ")"
   ]
  },
  {
   "cell_type": "code",
   "execution_count": 17,
   "metadata": {},
   "outputs": [],
   "source": [
    "model.compile(\n",
    "    loss=SparseCategoricalCrossentropy(from_logits=True),\n",
    "    optimizer='adam',\n",
    "    metrics=['accuracy'],\n",
    ")"
   ]
  },
  {
   "cell_type": "code",
   "execution_count": 18,
   "metadata": {},
   "outputs": [],
   "source": [
    "Xtrain_split=[]\n",
    "Xtest_split=[]\n",
    "for d in range(D):\n",
    "    Xtrain_split.append(Xtrain[:,:,d])\n",
    "    Xtest_split.append(Xtest[:,:,d])"
   ]
  },
  {
   "cell_type": "code",
   "execution_count": null,
   "metadata": {},
   "outputs": [],
   "source": []
  },
  {
   "cell_type": "code",
   "execution_count": 19,
   "metadata": {},
   "outputs": [
    {
     "name": "stdout",
     "output_type": "stream",
     "text": [
      "Epoch 1/15\n",
      "230/230 [==============================] - 33s 41ms/step - loss: 0.6250 - accuracy: 0.7811 - val_loss: 0.4589 - val_accuracy: 0.8354\n",
      "Epoch 2/15\n",
      "230/230 [==============================] - 3s 12ms/step - loss: 0.2212 - accuracy: 0.9244 - val_loss: 0.3667 - val_accuracy: 0.8738\n",
      "Epoch 3/15\n",
      "230/230 [==============================] - 3s 13ms/step - loss: 0.1606 - accuracy: 0.9470 - val_loss: 0.3432 - val_accuracy: 0.8816\n",
      "Epoch 4/15\n",
      "230/230 [==============================] - 2s 11ms/step - loss: 0.1339 - accuracy: 0.9506 - val_loss: 0.3230 - val_accuracy: 0.8948\n",
      "Epoch 5/15\n",
      "230/230 [==============================] - 3s 14ms/step - loss: 0.1176 - accuracy: 0.9591 - val_loss: 0.2948 - val_accuracy: 0.9040\n",
      "Epoch 6/15\n",
      "230/230 [==============================] - 1s 7ms/step - loss: 0.1052 - accuracy: 0.9615 - val_loss: 0.3108 - val_accuracy: 0.8941\n",
      "Epoch 7/15\n",
      "230/230 [==============================] - 1s 6ms/step - loss: 0.0961 - accuracy: 0.9672 - val_loss: 0.3093 - val_accuracy: 0.8992\n",
      "Epoch 8/15\n",
      "230/230 [==============================] - 2s 9ms/step - loss: 0.0919 - accuracy: 0.9665 - val_loss: 0.2839 - val_accuracy: 0.9043\n",
      "Epoch 9/15\n",
      "230/230 [==============================] - 1s 6ms/step - loss: 0.0848 - accuracy: 0.9689 - val_loss: 0.2799 - val_accuracy: 0.8962\n",
      "Epoch 10/15\n",
      "230/230 [==============================] - 3s 13ms/step - loss: 0.0805 - accuracy: 0.9702 - val_loss: 0.2681 - val_accuracy: 0.9084\n",
      "Epoch 11/15\n",
      "230/230 [==============================] - 1s 6ms/step - loss: 0.0793 - accuracy: 0.9699 - val_loss: 0.2691 - val_accuracy: 0.9080\n",
      "Epoch 12/15\n",
      "230/230 [==============================] - 5s 20ms/step - loss: 0.0734 - accuracy: 0.9709 - val_loss: 0.2766 - val_accuracy: 0.9091\n",
      "Epoch 13/15\n",
      "230/230 [==============================] - 1s 6ms/step - loss: 0.0702 - accuracy: 0.9725 - val_loss: 0.2627 - val_accuracy: 0.9070\n",
      "Epoch 14/15\n",
      "230/230 [==============================] - 2s 10ms/step - loss: 0.0649 - accuracy: 0.9755 - val_loss: 0.2670 - val_accuracy: 0.9108\n",
      "Epoch 15/15\n",
      "230/230 [==============================] - 2s 7ms/step - loss: 0.0594 - accuracy: 0.9767 - val_loss: 0.2593 - val_accuracy: 0.9080\n"
     ]
    }
   ],
   "source": [
    "r=model.fit(\n",
    "    Xtrain_split,\n",
    "    Ytrain,\n",
    "    epochs=15,\n",
    "    callbacks=[check_point],\n",
    "    validation_data=(Xtest_split,Ytest),\n",
    ")"
   ]
  },
  {
   "cell_type": "code",
   "execution_count": 20,
   "metadata": {},
   "outputs": [
    {
     "data": {
      "text/plain": [
       "<matplotlib.legend.Legend at 0x15daf04dee0>"
      ]
     },
     "execution_count": 20,
     "metadata": {},
     "output_type": "execute_result"
    },
    {
     "data": {
      "image/png": "[encoded data removed]",
      "text/plain": [
       "<Figure size 432x288 with 1 Axes>"
      ]
     },
     "metadata": {
      "needs_background": "light"
     },
     "output_type": "display_data"
    }
   ],
   "source": [
    "plt.plot(r.history['loss'],label='train loss')\n",
    "plt.plot(r.history['val_loss'],label='test loss')\n",
    "plt.legend()"
   ]
  },
  {
   "cell_type": "code",
   "execution_count": 21,
   "metadata": {},
   "outputs": [
    {
     "data": {
      "text/plain": [
       "<matplotlib.legend.Legend at 0x15daf0c5190>"
      ]
     },
     "execution_count": 21,
     "metadata": {},
     "output_type": "execute_result"
    },
    {
     "data": {
      "image/png": "[encoded data removed]",
      "text/plain": [
       "<Figure size 432x288 with 1 Axes>"
      ]
     },
     "metadata": {
      "needs_background": "light"
     },
     "output_type": "display_data"
    }
   ],
   "source": [
    "plt.plot(r.history['accuracy'],label='train acc')\n",
    "plt.plot(r.history['val_accuracy'],label='test acc')\n",
    "plt.legend()"
   ]
  },
  {
   "cell_type": "code",
   "execution_count": 22,
   "metadata": {},
   "outputs": [],
   "source": [
    "best_model=tf.keras.models.load_model('best_model.h5')"
   ]
  },
  {
   "cell_type": "code",
   "execution_count": 23,
   "metadata": {},
   "outputs": [],
   "source": [
    "Ptest=best_model.predict(Xtest_split)"
   ]
  },
  {
   "cell_type": "code",
   "execution_count": 24,
   "metadata": {},
   "outputs": [
    {
     "data": {
      "text/plain": [
       "0.9107567017305734"
      ]
     },
     "execution_count": 24,
     "metadata": {},
     "output_type": "execute_result"
    }
   ],
   "source": [
    "np.mean(np.argmax(Ptest,axis=1)==Ytest)"
   ]
  },
  {
   "cell_type": "code",
   "execution_count": 25,
   "metadata": {},
   "outputs": [],
   "source": [
    "### Doing it by standar scaler  "
   ]
  },
  {
   "cell_type": "code",
   "execution_count": 26,
   "metadata": {},
   "outputs": [],
   "source": [
    "# import pandas as pd"
   ]
  },
  {
   "cell_type": "code",
   "execution_count": 89,
   "metadata": {},
   "outputs": [],
   "source": [
    "def load_features():\n",
    "    d = open(r\"C:\\Users\\axith\\Documents\\data science\\time series\\06 Neural Network\\UCI HAR Dataset\\train\\X_train.txt\")\n",
    "    df1 = pd.read_csv(d,\n",
    "        header=None,\n",
    "        delim_whitespace=True,\n",
    "    )\n",
    "    \n",
    "    d = open(r\"C:\\Users\\axith\\Documents\\data science\\time series\\06 Neural Network\\UCI HAR Dataset\\test\\X_test.txt\")\n",
    "    df2 = pd.read_csv(\n",
    "            d,\n",
    "            header=None,\n",
    "            delim_whitespace=True\n",
    "        )\n",
    "    \n",
    "    feat_train=df1.to_numpy()\n",
    "    feat_test=df2.to_numpy()\n",
    "    scaler=StandardScaler()\n",
    "    feat_train=scaler.fit_transform(feat_train)\n",
    "    feat_test=scaler.transform(feat_test)\n",
    "    \n",
    "    \n",
    "    return feat_train,feat_test"
   ]
  },
  {
   "cell_type": "code",
   "execution_count": 90,
   "metadata": {},
   "outputs": [],
   "source": [
    "feat_train,feat_test=load_features()"
   ]
  },
  {
   "cell_type": "code",
   "execution_count": 91,
   "metadata": {},
   "outputs": [],
   "source": [
    "D_feat=feat_train.shape[1]"
   ]
  },
  {
   "cell_type": "code",
   "execution_count": 118,
   "metadata": {},
   "outputs": [],
   "source": [
    "i=Input(shape=(D_feat,))\n",
    "x=Dense(32,activation='relu')(i)\n",
    "x=Dense(K)(x)\n",
    "model=Model(i,x)"
   ]
  },
  {
   "cell_type": "code",
   "execution_count": 119,
   "metadata": {},
   "outputs": [
    {
     "name": "stdout",
     "output_type": "stream",
     "text": [
      "Model: \"model_9\"\n",
      "_________________________________________________________________\n",
      " Layer (type)                Output Shape              Param #   \n",
      "=================================================================\n",
      " input_37 (InputLayer)       [(None, 561)]             0         \n",
      "                                                                 \n",
      " dense_72 (Dense)            (None, 32)                17984     \n",
      "                                                                 \n",
      " dense_73 (Dense)            (None, 6)                 198       \n",
      "                                                                 \n",
      "=================================================================\n",
      "Total params: 18,182\n",
      "Trainable params: 18,182\n",
      "Non-trainable params: 0\n",
      "_________________________________________________________________\n"
     ]
    }
   ],
   "source": [
    "model.summary()"
   ]
  },
  {
   "cell_type": "code",
   "execution_count": 93,
   "metadata": {},
   "outputs": [],
   "source": [
    "model.compile(\n",
    "    loss=SparseCategoricalCrossentropy(from_logits=True),\n",
    "    optimizer='adam',\n",
    "    metrics=['accuracy'])"
   ]
  },
  {
   "cell_type": "code",
   "execution_count": 94,
   "metadata": {},
   "outputs": [],
   "source": [
    "check_point2=ModelCheckpoint('best_model_basics.h5',monitor='val_accuracy',save_best_only=True)"
   ]
  },
  {
   "cell_type": "code",
   "execution_count": 95,
   "metadata": {},
   "outputs": [],
   "source": [
    "# feat_train=np.array(feat_train)\n",
    "# Ytrain=np.array(Ytrain)\n",
    "# feat_test=np.array(feat_test)\n",
    "# Ytest=np.array(Ytest)"
   ]
  },
  {
   "cell_type": "code",
   "execution_count": 96,
   "metadata": {},
   "outputs": [
    {
     "name": "stdout",
     "output_type": "stream",
     "text": [
      "Epoch 1/15\n",
      "230/230 [==============================] - 5s 18ms/step - loss: 0.3317 - accuracy: 0.8779 - val_loss: 0.2052 - val_accuracy: 0.9362\n",
      "Epoch 2/15\n",
      "230/230 [==============================] - 1s 5ms/step - loss: 0.1061 - accuracy: 0.9659 - val_loss: 0.1757 - val_accuracy: 0.9376\n",
      "Epoch 3/15\n",
      "230/230 [==============================] - 1s 3ms/step - loss: 0.0786 - accuracy: 0.9714 - val_loss: 0.1689 - val_accuracy: 0.9362\n",
      "Epoch 4/15\n",
      "230/230 [==============================] - 1s 3ms/step - loss: 0.0613 - accuracy: 0.9776 - val_loss: 0.1875 - val_accuracy: 0.9325\n",
      "Epoch 5/15\n",
      "230/230 [==============================] - 1s 4ms/step - loss: 0.0517 - accuracy: 0.9835 - val_loss: 0.1685 - val_accuracy: 0.9379\n",
      "Epoch 6/15\n",
      "230/230 [==============================] - 1s 5ms/step - loss: 0.0452 - accuracy: 0.9844 - val_loss: 0.1897 - val_accuracy: 0.9372\n",
      "Epoch 7/15\n",
      "230/230 [==============================] - 1s 5ms/step - loss: 0.0440 - accuracy: 0.9848 - val_loss: 0.2370 - val_accuracy: 0.9294\n",
      "Epoch 8/15\n",
      "230/230 [==============================] - 1s 5ms/step - loss: 0.0400 - accuracy: 0.9853 - val_loss: 0.2412 - val_accuracy: 0.9250\n",
      "Epoch 9/15\n",
      "230/230 [==============================] - 1s 4ms/step - loss: 0.0372 - accuracy: 0.9869 - val_loss: 0.2403 - val_accuracy: 0.9304\n",
      "Epoch 10/15\n",
      "230/230 [==============================] - 1s 5ms/step - loss: 0.0293 - accuracy: 0.9895 - val_loss: 0.1965 - val_accuracy: 0.9410\n",
      "Epoch 11/15\n",
      "230/230 [==============================] - 1s 4ms/step - loss: 0.0319 - accuracy: 0.9897 - val_loss: 0.1863 - val_accuracy: 0.9420\n",
      "Epoch 12/15\n",
      "230/230 [==============================] - ETA: 0s - loss: 0.0275 - accuracy: 0.99 - 1s 4ms/step - loss: 0.0275 - accuracy: 0.9914 - val_loss: 0.2294 - val_accuracy: 0.9372\n",
      "Epoch 13/15\n",
      "230/230 [==============================] - 1s 3ms/step - loss: 0.0261 - accuracy: 0.9905 - val_loss: 0.2253 - val_accuracy: 0.9365\n",
      "Epoch 14/15\n",
      "230/230 [==============================] - 1s 4ms/step - loss: 0.0214 - accuracy: 0.9932 - val_loss: 0.2116 - val_accuracy: 0.9430\n",
      "Epoch 15/15\n",
      "230/230 [==============================] - 1s 4ms/step - loss: 0.0219 - accuracy: 0.9914 - val_loss: 0.2240 - val_accuracy: 0.9386\n"
     ]
    }
   ],
   "source": [
    "# r=model.fit(\n",
    "#     feat_train,\n",
    "#     Ytrain,\n",
    "#     epochs=15,\n",
    "#     callbacks=[check_point2],\n",
    "#     validation_data=(feat_test,Ytest),\n",
    "# )\n",
    "\n",
    "r=model.fit(feat_train,Ytrain ,epochs=15,callbacks=[check_point2],validation_data=(feat_test,Ytest))"
   ]
  },
  {
   "cell_type": "code",
   "execution_count": 97,
   "metadata": {},
   "outputs": [
    {
     "data": {
      "text/plain": [
       "<matplotlib.legend.Legend at 0x15daf5bd070>"
      ]
     },
     "execution_count": 97,
     "metadata": {},
     "output_type": "execute_result"
    },
    {
     "data": {
      "image/png": "[encoded data removed]",
      "text/plain": [
       "<Figure size 432x288 with 1 Axes>"
      ]
     },
     "metadata": {
      "needs_background": "light"
     },
     "output_type": "display_data"
    }
   ],
   "source": [
    "plt.plot(r.history['loss'],label=\"Train loss\")\n",
    "plt.plot(r.history['val_loss'],label=\"Test loss\")\n",
    "plt.legend()"
   ]
  },
  {
   "cell_type": "code",
   "execution_count": 100,
   "metadata": {},
   "outputs": [],
   "source": [
    "best_model=tf.keras.models.load_model('best_model_basics.h5')\n",
    "Ptest=best_model.predict(feat_test)\n",
    "np.mean(np.argmax(Ptest,axis=1)==Ytest)"
   ]
  },
  {
   "cell_type": "code",
   "execution_count": 101,
   "metadata": {},
   "outputs": [],
   "source": [
    "# Ptest=best_model.predict(feat_test)"
   ]
  },
  {
   "cell_type": "code",
   "execution_count": 102,
   "metadata": {},
   "outputs": [
    {
     "data": {
      "text/plain": [
       "0.9429928741092637"
      ]
     },
     "execution_count": 102,
     "metadata": {},
     "output_type": "execute_result"
    }
   ],
   "source": [
    "# np.mean(np.argmax(Ptest,axis=1)==Ytest)"
   ]
  },
  {
   "cell_type": "code",
   "execution_count": 103,
   "metadata": {},
   "outputs": [],
   "source": [
    "from sklearn.linear_model import LogisticRegression\n",
    "from sklearn.svm import SVC\n",
    "from sklearn.ensemble import RandomForestClassifier"
   ]
  },
  {
   "cell_type": "code",
   "execution_count": 111,
   "metadata": {},
   "outputs": [
    {
     "name": "stdout",
     "output_type": "stream",
     "text": [
      "train acc 0.9945593035908596 \n",
      "test acc 0.9613165931455717\n"
     ]
    }
   ],
   "source": [
    "model=LogisticRegression(\n",
    "    solver='liblinear'\n",
    ")\n",
    "model.fit(feat_train,Ytrain)\n",
    "print(f\"train acc {model.score(feat_train,Ytrain)} \\ntest acc {model.score(feat_test,Ytest)}\")"
   ]
  },
  {
   "cell_type": "code",
   "execution_count": 112,
   "metadata": {},
   "outputs": [
    {
     "name": "stdout",
     "output_type": "stream",
     "text": [
      "train acc 0.9866702937976061 \n",
      "test acc 0.9521547336274178\n"
     ]
    }
   ],
   "source": [
    "model=SVC()\n",
    "model.fit(feat_train,Ytrain)\n",
    "print(f\"train acc {model.score(feat_train,Ytrain)} \\ntest acc {model.score(feat_test,Ytest)}\")"
   ]
  },
  {
   "cell_type": "code",
   "execution_count": 113,
   "metadata": {},
   "outputs": [
    {
     "name": "stdout",
     "output_type": "stream",
     "text": [
      "train acc 1.0 \n",
      "test acc 0.9294197488971836\n"
     ]
    }
   ],
   "source": [
    "model=RandomForestClassifier()\n",
    "model.fit(feat_train,Ytrain)\n",
    "print(f\"train acc {model.score(feat_train,Ytrain)} \\ntest acc {model.score(feat_test,Ytest)}\")"
   ]
  },
  {
   "cell_type": "code",
   "execution_count": 120,
   "metadata": {},
   "outputs": [],
   "source": [
    "inputs=[]\n",
    "features=[]\n",
    "\n",
    "for d in range(D):\n",
    "    i=Input(shape=(T,))\n",
    "    x=Dense(32,activation='relu')(i)\n",
    "    x=Dense(64,activation='relu')(x)\n",
    "    inputs.append(i)\n",
    "    features.append(x)\n",
    "\n",
    "i2=Input(shape=(D_feat,))\n",
    "x2=Dense(32,activation='relu')(i2)\n",
    "\n",
    "x=Concatenate()(features+[x2])\n",
    "x=Dense(K)(x)\n",
    "model=Model(inputs+[i2],x)\n",
    "    "
   ]
  },
  {
   "cell_type": "code",
   "execution_count": 121,
   "metadata": {},
   "outputs": [
    {
     "name": "stdout",
     "output_type": "stream",
     "text": [
      "Model: \"model_10\"\n",
      "__________________________________________________________________________________________________\n",
      " Layer (type)                   Output Shape         Param #     Connected to                     \n",
      "==================================================================================================\n",
      " input_38 (InputLayer)          [(None, 128)]        0           []                               \n",
      "                                                                                                  \n",
      " input_39 (InputLayer)          [(None, 128)]        0           []                               \n",
      "                                                                                                  \n",
      " input_40 (InputLayer)          [(None, 128)]        0           []                               \n",
      "                                                                                                  \n",
      " input_41 (InputLayer)          [(None, 128)]        0           []                               \n",
      "                                                                                                  \n",
      " input_42 (InputLayer)          [(None, 128)]        0           []                               \n",
      "                                                                                                  \n",
      " input_43 (InputLayer)          [(None, 128)]        0           []                               \n",
      "                                                                                                  \n",
      " input_44 (InputLayer)          [(None, 128)]        0           []                               \n",
      "                                                                                                  \n",
      " input_45 (InputLayer)          [(None, 128)]        0           []                               \n",
      "                                                                                                  \n",
      " input_46 (InputLayer)          [(None, 128)]        0           []                               \n",
      "                                                                                                  \n",
      " dense_74 (Dense)               (None, 32)           4128        ['input_38[0][0]']               \n",
      "                                                                                                  \n",
      " dense_76 (Dense)               (None, 32)           4128        ['input_39[0][0]']               \n",
      "                                                                                                  \n",
      " dense_78 (Dense)               (None, 32)           4128        ['input_40[0][0]']               \n",
      "                                                                                                  \n",
      " dense_80 (Dense)               (None, 32)           4128        ['input_41[0][0]']               \n",
      "                                                                                                  \n",
      " dense_82 (Dense)               (None, 32)           4128        ['input_42[0][0]']               \n",
      "                                                                                                  \n",
      " dense_84 (Dense)               (None, 32)           4128        ['input_43[0][0]']               \n",
      "                                                                                                  \n",
      " dense_86 (Dense)               (None, 32)           4128        ['input_44[0][0]']               \n",
      "                                                                                                  \n",
      " dense_88 (Dense)               (None, 32)           4128        ['input_45[0][0]']               \n",
      "                                                                                                  \n",
      " dense_90 (Dense)               (None, 32)           4128        ['input_46[0][0]']               \n",
      "                                                                                                  \n",
      " input_47 (InputLayer)          [(None, 561)]        0           []                               \n",
      "                                                                                                  \n",
      " dense_75 (Dense)               (None, 64)           2112        ['dense_74[0][0]']               \n",
      "                                                                                                  \n",
      " dense_77 (Dense)               (None, 64)           2112        ['dense_76[0][0]']               \n",
      "                                                                                                  \n",
      " dense_79 (Dense)               (None, 64)           2112        ['dense_78[0][0]']               \n",
      "                                                                                                  \n",
      " dense_81 (Dense)               (None, 64)           2112        ['dense_80[0][0]']               \n",
      "                                                                                                  \n",
      " dense_83 (Dense)               (None, 64)           2112        ['dense_82[0][0]']               \n",
      "                                                                                                  \n",
      " dense_85 (Dense)               (None, 64)           2112        ['dense_84[0][0]']               \n",
      "                                                                                                  \n",
      " dense_87 (Dense)               (None, 64)           2112        ['dense_86[0][0]']               \n",
      "                                                                                                  \n",
      " dense_89 (Dense)               (None, 64)           2112        ['dense_88[0][0]']               \n",
      "                                                                                                  \n",
      " dense_91 (Dense)               (None, 64)           2112        ['dense_90[0][0]']               \n",
      "                                                                                                  \n",
      " dense_92 (Dense)               (None, 32)           17984       ['input_47[0][0]']               \n",
      "                                                                                                  \n",
      " concatenate_3 (Concatenate)    (None, 608)          0           ['dense_75[0][0]',               \n",
      "                                                                  'dense_77[0][0]',               \n",
      "                                                                  'dense_79[0][0]',               \n",
      "                                                                  'dense_81[0][0]',               \n",
      "                                                                  'dense_83[0][0]',               \n",
      "                                                                  'dense_85[0][0]',               \n",
      "                                                                  'dense_87[0][0]',               \n",
      "                                                                  'dense_89[0][0]',               \n",
      "                                                                  'dense_91[0][0]',               \n",
      "                                                                  'dense_92[0][0]']               \n",
      "                                                                                                  \n",
      " dense_93 (Dense)               (None, 6)            3654        ['concatenate_3[0][0]']          \n",
      "                                                                                                  \n",
      "==================================================================================================\n",
      "Total params: 77,798\n",
      "Trainable params: 77,798\n",
      "Non-trainable params: 0\n",
      "__________________________________________________________________________________________________\n"
     ]
    }
   ],
   "source": [
    "model.summary()"
   ]
  },
  {
   "cell_type": "code",
   "execution_count": 122,
   "metadata": {},
   "outputs": [],
   "source": [
    "model.compile(\n",
    "    loss=SparseCategoricalCrossentropy(from_logits=True),\n",
    "    optimizer='adam',\n",
    "    metrics=['accuracy'],\n",
    "    )"
   ]
  },
  {
   "cell_type": "code",
   "execution_count": 123,
   "metadata": {},
   "outputs": [],
   "source": [
    "check_point3=ModelCheckpoint(\n",
    "'best_model_combined.h5',monitor='val_accuracy',save_best_only=True)"
   ]
  },
  {
   "cell_type": "code",
   "execution_count": 125,
   "metadata": {},
   "outputs": [
    {
     "name": "stdout",
     "output_type": "stream",
     "text": [
      "Epoch 1/15\n",
      "230/230 [==============================] - 72s 314ms/step - loss: 0.0977 - accuracy: 0.9649 - val_loss: 0.1801 - val_accuracy: 0.9338\n",
      "Epoch 2/15\n",
      "230/230 [==============================] - 2s 11ms/step - loss: 0.0700 - accuracy: 0.9746 - val_loss: 0.1667 - val_accuracy: 0.9423\n",
      "Epoch 3/15\n",
      "230/230 [==============================] - 2s 10ms/step - loss: 0.0569 - accuracy: 0.9789 - val_loss: 0.1550 - val_accuracy: 0.9484\n",
      "Epoch 4/15\n",
      "230/230 [==============================] - 2s 8ms/step - loss: 0.0506 - accuracy: 0.9815 - val_loss: 0.1969 - val_accuracy: 0.9382\n",
      "Epoch 5/15\n",
      "230/230 [==============================] - 3s 11ms/step - loss: 0.0459 - accuracy: 0.9827 - val_loss: 0.1420 - val_accuracy: 0.9545\n",
      "Epoch 6/15\n",
      "230/230 [==============================] - 2s 10ms/step - loss: 0.0361 - accuracy: 0.9882 - val_loss: 0.1615 - val_accuracy: 0.9525\n",
      "Epoch 7/15\n",
      "230/230 [==============================] - 2s 9ms/step - loss: 0.0349 - accuracy: 0.9879 - val_loss: 0.1842 - val_accuracy: 0.9481\n",
      "Epoch 8/15\n",
      "230/230 [==============================] - 2s 8ms/step - loss: 0.0316 - accuracy: 0.9891 - val_loss: 0.1784 - val_accuracy: 0.9457\n",
      "Epoch 9/15\n",
      "230/230 [==============================] - 2s 7ms/step - loss: 0.0315 - accuracy: 0.9878 - val_loss: 0.1734 - val_accuracy: 0.9494\n",
      "Epoch 10/15\n",
      "230/230 [==============================] - 4s 15ms/step - loss: 0.0245 - accuracy: 0.9927 - val_loss: 0.1564 - val_accuracy: 0.9559\n",
      "Epoch 11/15\n",
      "230/230 [==============================] - 2s 9ms/step - loss: 0.0246 - accuracy: 0.9910 - val_loss: 0.1513 - val_accuracy: 0.9528\n",
      "Epoch 12/15\n",
      "230/230 [==============================] - 2s 11ms/step - loss: 0.0215 - accuracy: 0.9924 - val_loss: 0.1893 - val_accuracy: 0.9515\n",
      "Epoch 13/15\n",
      "230/230 [==============================] - 3s 12ms/step - loss: 0.0189 - accuracy: 0.9942 - val_loss: 0.1509 - val_accuracy: 0.9603\n",
      "Epoch 14/15\n",
      "230/230 [==============================] - 2s 8ms/step - loss: 0.0143 - accuracy: 0.9956 - val_loss: 0.1437 - val_accuracy: 0.9589\n",
      "Epoch 15/15\n",
      "230/230 [==============================] - 2s 8ms/step - loss: 0.0159 - accuracy: 0.9946 - val_loss: 0.1619 - val_accuracy: 0.9579\n"
     ]
    }
   ],
   "source": [
    "r=model.fit(\n",
    "    Xtrain_split+[feat_train],\n",
    "    Ytrain,\n",
    "    epochs=15,\n",
    "    callbacks=[check_point3],\n",
    "    validation_data=(Xtest_split+[feat_test],Ytest),\n",
    ")"
   ]
  },
  {
   "cell_type": "code",
   "execution_count": 126,
   "metadata": {
    "scrolled": true
   },
   "outputs": [
    {
     "data": {
      "text/plain": [
       "<matplotlib.legend.Legend at 0x15dbe2a08b0>"
      ]
     },
     "execution_count": 126,
     "metadata": {},
     "output_type": "execute_result"
    },
    {
     "data": {
      "image/png": "[encoded data removed]",
      "text/plain": [
       "<Figure size 432x288 with 1 Axes>"
      ]
     },
     "metadata": {
      "needs_background": "light"
     },
     "output_type": "display_data"
    }
   ],
   "source": [
    "plt.plot(r.history['loss'],label=\"Train loss\")\n",
    "plt.plot(r.history['val_loss'],label=\"Test loss\")\n",
    "plt.legend()"
   ]
  },
  {
   "cell_type": "code",
   "execution_count": 127,
   "metadata": {},
   "outputs": [
    {
     "data": {
      "text/plain": [
       "0.9429928741092637"
      ]
     },
     "execution_count": 127,
     "metadata": {},
     "output_type": "execute_result"
    }
   ],
   "source": [
    "best_model=tf.keras.models.load_model('best_model_basics.h5')\n",
    "Ptest=best_model.predict(feat_test)\n",
    "np.mean(np.argmax(Ptest,axis=1)==Ytest)"
   ]
  },
  {
   "cell_type": "code",
   "execution_count": null,
   "metadata": {},
   "outputs": [],
   "source": []
  }
 ],
 "metadata": {
  "interpreter": {
   "hash": "655bb412f5ec8de8ab6f304dfb6d40781bb6631238cd0a3a10561f5056575b0b"
  },
  "kernelspec": {
   "display_name": "Python 3 (ipykernel)",
   "language": "python",
   "name": "python3"
  },
  "language_info": {
   "codemirror_mode": {
    "name": "ipython",
    "version": 3
   },
   "file_extension": ".py",
   "mimetype": "text/x-python",
   "name": "python",
   "nbconvert_exporter": "python",
   "pygments_lexer": "ipython3",
   "version": "3.9.7"
  }
 },
 "nbformat": 4,
 "nbformat_minor": 2
}
