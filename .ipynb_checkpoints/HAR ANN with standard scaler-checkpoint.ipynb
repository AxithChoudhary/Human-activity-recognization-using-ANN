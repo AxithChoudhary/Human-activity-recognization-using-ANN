{
 "cells": [
  {
   "cell_type": "code",
   "execution_count": 1,
   "metadata": {},
   "outputs": [],
   "source": [
    "import numpy as np\n",
    "import matplotlib.pyplot as plt\n",
    "import pandas as pd\n",
    "\n",
    "import tensorflow as tf\n",
    "from tensorflow.keras.layers import Dense, Input, Concatenate\n",
    "from tensorflow.keras.models import Model\n",
    "from tensorflow.keras.losses import SparseCategoricalCrossentropy\n",
    "from tensorflow.keras.callbacks import ModelCheckpoint\n",
    "\n",
    "from sklearn.metrics import r2_score\n",
    "from sklearn.preprocessing import StandardScaler\n",
    "\n",
    "np.random.seed(123)\n",
    "tf.random.set_seed(123)\n"
   ]
  },
  {
   "cell_type": "code",
   "execution_count": null,
   "metadata": {},
   "outputs": [],
   "source": []
  },
  {
   "cell_type": "code",
   "execution_count": null,
   "metadata": {},
   "outputs": [],
   "source": [
    "from sklearn.preprocessing import StandarScaler\n",
    "\n",
    "def load_features():\n",
    "    d = open(r\"C:\\Users\\axith\\Documents\\data science\\time series\\06 Neural Network\\UCI HAR Dataset\\train\\X_train.txt\")\n",
    "    df = pd.read_csv(d,\n",
    "        header=None,\n",
    "        delim_whitespace=True,\n",
    "    )\n",
    "\n",
    "    feat_train=df.to_numpy()\n",
    "\n",
    "    df=pd.read_csv(\n",
    "        d = open(r\"C:\\Users\\axith\\Documents\\data science\\time series\\06 Neural Network\\UCI HAR Dataset\\test\\X_test.txt\")\n",
    "        df = pd.read_csv(\n",
    "            d,\n",
    "            header=None,\n",
    "            delim_whitespace=True\n",
    "        )\n",
    "    )\n",
    "    feat_test=df.to_numpy()\n",
    "    scaler=StandarScaler()\n",
    "    feat_train=scaler.fit_transform(feat_train)\n",
    "    feat_test=scaler.fit(feat_test)\n",
    "    return feat_train,feat_test"
   ]
  }
 ],
 "metadata": {
  "interpreter": {
   "hash": "655bb412f5ec8de8ab6f304dfb6d40781bb6631238cd0a3a10561f5056575b0b"
  },
  "kernelspec": {
   "display_name": "Python 3 (ipykernel)",
   "language": "python",
   "name": "python3"
  },
  "language_info": {
   "codemirror_mode": {
    "name": "ipython",
    "version": 3
   },
   "file_extension": ".py",
   "mimetype": "text/x-python",
   "name": "python",
   "nbconvert_exporter": "python",
   "pygments_lexer": "ipython3",
   "version": "3.9.7"
  }
 },
 "nbformat": 4,
 "nbformat_minor": 2
}
